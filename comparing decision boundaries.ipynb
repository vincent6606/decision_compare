{
 "cells": [
  {
   "cell_type": "code",
   "execution_count": 1,
   "metadata": {},
   "outputs": [
    {
     "data": {
      "text/plain": [
       "<torch._C.Generator at 0x1113da0a8>"
      ]
     },
     "execution_count": 1,
     "metadata": {},
     "output_type": "execute_result"
    }
   ],
   "source": [
    "import torch\n",
    "from torch.autograd import Variable\n",
    "import torch.nn.functional as F\n",
    "import matplotlib.pyplot as plt\n",
    "import numpy as np\n",
    "import torch.nn as nn\n",
    "from sklearn import datasets\n",
    "import sklearn\n",
    "%matplotlib inline\n",
    "\n",
    "torch.manual_seed(1)    # reproducible"
   ]
  },
  {
   "cell_type": "code",
   "execution_count": 2,
   "metadata": {
    "collapsed": true
   },
   "outputs": [],
   "source": [
    "def generate_data(N=80):\n",
    "    r = np.linspace(0, 2,num=N)\n",
    "    \n",
    "    r1 = (2)*np.random.random_sample(N)\n",
    "    r2 = (2)*np.random.random_sample(N)\n",
    "    xTr1 = np.array([r1, np.power(r1,3)-2*np.square(r1)]).T\n",
    "    xTr2 = np.array([r2, np.power(r2,3)-2*np.square(r2)-2.5+np.random.random_sample(N)]).T\n",
    "    xTr = np.concatenate([xTr1, xTr2], axis=0)\n",
    "    yTr = np.concatenate([np.ones(N), -1 * np.ones(N)])\n",
    "    xTr = xTr + np.random.randn(xTr.shape[0], xTr.shape[1])*0.2\n",
    "    \n",
    "    xTe = xTr[::2,:]\n",
    "    yTe = yTr[::2]\n",
    "    xTr = xTr[1::2,:]\n",
    "    yTr = yTr[1::2]\n",
    "    \n",
    "    return xTr,yTr,xTe,yTe"
   ]
  },
  {
   "cell_type": "code",
   "execution_count": 3,
   "metadata": {},
   "outputs": [
    {
     "data": {
      "image/png": "[encoded data removed]",
      "text/plain": [
       "<matplotlib.figure.Figure at 0x11a6ef748>"
      ]
     },
     "metadata": {},
     "output_type": "display_data"
    }
   ],
   "source": [
    "xTr,yTr,xTe,yTe=generate_data()\n",
    "plt.scatter(xTr[yTr == 1, 0], xTr[yTr == 1, 1], c='b')\n",
    "plt.scatter(xTr[yTr != 1, 0], xTr[yTr != 1, 1], c='r')\n",
    "plt.legend([\"+1\",\"-1\"])\n",
    "plt.show()"
   ]
  },
  {
   "cell_type": "code",
   "execution_count": 4,
   "metadata": {
    "collapsed": true
   },
   "outputs": [],
   "source": [
    "def two_moons(N=10):\n",
    "    x = sklearn.datasets.make_moons(n_samples=N, shuffle=False, noise=0.1, random_state=None)\n",
    "    xTr = x[0]\n",
    "    yTr = x[1]\n",
    "    xTe = xTr[::2,:]\n",
    "    yTe = yTr[::2]\n",
    "    xTr = xTr[1::2,:]\n",
    "    yTr = yTr[1::2]\n",
    "    \n",
    "    return xTr,yTr,xTe,yTe"
   ]
  },
  {
   "cell_type": "code",
   "execution_count": 5,
   "metadata": {},
   "outputs": [
    {
     "data": {
      "image/png": "[encoded data removed]",
      "text/plain": [
       "<matplotlib.figure.Figure at 0x11a7d1dd8>"
      ]
     },
     "metadata": {},
     "output_type": "display_data"
    }
   ],
   "source": [
    "xTr,yTr,xTe,yTe=two_moons(40)\n",
    "plt.scatter(xTr[yTr == 1, 0], xTr[yTr == 1, 1], c='b')\n",
    "plt.scatter(xTr[yTr != 1, 0], xTr[yTr != 1, 1], c='r')\n",
    "plt.legend([\"+1\",\"-1\"])\n",
    "plt.show()"
   ]
  },
  {
   "cell_type": "code",
   "execution_count": 6,
   "metadata": {
    "collapsed": true
   },
   "outputs": [],
   "source": [
    "def validation_error(model,x,y):\n",
    "    x = torch.from_numpy(x).float()\n",
    "    y = torch.from_numpy(y)\n",
    "    x = x.contiguous()\n",
    "    x = x.view(-1,2)\n",
    "    x, y = Variable(x), Variable(y)\n",
    "    \n",
    "    \n",
    "    Z = (F.softmax(model(x)))\n",
    "    Z = Z.log().data.numpy()\n",
    "    y = np.eye(2)[y.data.numpy()]\n",
    "    Z = -np.multiply(Z,y).sum(1)\n",
    "    return Z.sum()/Z.shape[0]"
   ]
  },
  {
   "cell_type": "code",
   "execution_count": 7,
   "metadata": {
    "collapsed": true
   },
   "outputs": [],
   "source": [
    "import densenet as dn"
   ]
  },
  {
   "cell_type": "code",
   "execution_count": 8,
   "metadata": {
    "collapsed": true
   },
   "outputs": [],
   "source": [
    "dn_model = dn.DenseNet3(20, 2, 4, reduction=0.5,\n",
    "                     bottleneck=True, dropRate=0)"
   ]
  },
  {
   "cell_type": "code",
   "execution_count": 9,
   "metadata": {},
   "outputs": [
    {
     "data": {
      "text/plain": [
       "DenseNet3 (\n",
       "  (conv1): Conv2d(1, 8, kernel_size=(3, 3), stride=(1, 1), padding=(1, 1), bias=False)\n",
       "  (block1): DenseBlock (\n",
       "    (layer): Sequential (\n",
       "      (0): BottleneckBlock (\n",
       "        (bn1): BatchNorm2d(8, eps=1e-05, momentum=0.1, affine=True)\n",
       "        (relu): ReLU (inplace)\n",
       "        (conv1): Conv2d(8, 16, kernel_size=(3, 3), stride=(1, 1), padding=(1, 1), bias=False)\n",
       "        (bn2): BatchNorm2d(16, eps=1e-05, momentum=0.1, affine=True)\n",
       "        (conv2): Conv2d(16, 4, kernel_size=(3, 3), stride=(1, 1), padding=(1, 1), bias=False)\n",
       "      )\n",
       "      (1): BottleneckBlock (\n",
       "        (bn1): BatchNorm2d(12, eps=1e-05, momentum=0.1, affine=True)\n",
       "        (relu): ReLU (inplace)\n",
       "        (conv1): Conv2d(12, 16, kernel_size=(3, 3), stride=(1, 1), padding=(1, 1), bias=False)\n",
       "        (bn2): BatchNorm2d(16, eps=1e-05, momentum=0.1, affine=True)\n",
       "        (conv2): Conv2d(16, 4, kernel_size=(3, 3), stride=(1, 1), padding=(1, 1), bias=False)\n",
       "      )\n",
       "      (2): BottleneckBlock (\n",
       "        (bn1): BatchNorm2d(16, eps=1e-05, momentum=0.1, affine=True)\n",
       "        (relu): ReLU (inplace)\n",
       "        (conv1): Conv2d(16, 16, kernel_size=(3, 3), stride=(1, 1), padding=(1, 1), bias=False)\n",
       "        (bn2): BatchNorm2d(16, eps=1e-05, momentum=0.1, affine=True)\n",
       "        (conv2): Conv2d(16, 4, kernel_size=(3, 3), stride=(1, 1), padding=(1, 1), bias=False)\n",
       "      )\n",
       "      (3): BottleneckBlock (\n",
       "        (bn1): BatchNorm2d(20, eps=1e-05, momentum=0.1, affine=True)\n",
       "        (relu): ReLU (inplace)\n",
       "        (conv1): Conv2d(20, 16, kernel_size=(3, 3), stride=(1, 1), padding=(1, 1), bias=False)\n",
       "        (bn2): BatchNorm2d(16, eps=1e-05, momentum=0.1, affine=True)\n",
       "        (conv2): Conv2d(16, 4, kernel_size=(3, 3), stride=(1, 1), padding=(1, 1), bias=False)\n",
       "      )\n",
       "      (4): BottleneckBlock (\n",
       "        (bn1): BatchNorm2d(24, eps=1e-05, momentum=0.1, affine=True)\n",
       "        (relu): ReLU (inplace)\n",
       "        (conv1): Conv2d(24, 16, kernel_size=(3, 3), stride=(1, 1), padding=(1, 1), bias=False)\n",
       "        (bn2): BatchNorm2d(16, eps=1e-05, momentum=0.1, affine=True)\n",
       "        (conv2): Conv2d(16, 4, kernel_size=(3, 3), stride=(1, 1), padding=(1, 1), bias=False)\n",
       "      )\n",
       "      (5): BottleneckBlock (\n",
       "        (bn1): BatchNorm2d(28, eps=1e-05, momentum=0.1, affine=True)\n",
       "        (relu): ReLU (inplace)\n",
       "        (conv1): Conv2d(28, 16, kernel_size=(3, 3), stride=(1, 1), padding=(1, 1), bias=False)\n",
       "        (bn2): BatchNorm2d(16, eps=1e-05, momentum=0.1, affine=True)\n",
       "        (conv2): Conv2d(16, 4, kernel_size=(3, 3), stride=(1, 1), padding=(1, 1), bias=False)\n",
       "      )\n",
       "      (6): BottleneckBlock (\n",
       "        (bn1): BatchNorm2d(32, eps=1e-05, momentum=0.1, affine=True)\n",
       "        (relu): ReLU (inplace)\n",
       "        (conv1): Conv2d(32, 16, kernel_size=(3, 3), stride=(1, 1), padding=(1, 1), bias=False)\n",
       "        (bn2): BatchNorm2d(16, eps=1e-05, momentum=0.1, affine=True)\n",
       "        (conv2): Conv2d(16, 4, kernel_size=(3, 3), stride=(1, 1), padding=(1, 1), bias=False)\n",
       "      )\n",
       "      (7): BottleneckBlock (\n",
       "        (bn1): BatchNorm2d(36, eps=1e-05, momentum=0.1, affine=True)\n",
       "        (relu): ReLU (inplace)\n",
       "        (conv1): Conv2d(36, 16, kernel_size=(3, 3), stride=(1, 1), padding=(1, 1), bias=False)\n",
       "        (bn2): BatchNorm2d(16, eps=1e-05, momentum=0.1, affine=True)\n",
       "        (conv2): Conv2d(16, 4, kernel_size=(3, 3), stride=(1, 1), padding=(1, 1), bias=False)\n",
       "      )\n",
       "    )\n",
       "  )\n",
       "  (bn1): BatchNorm2d(40, eps=1e-05, momentum=0.1, affine=True)\n",
       "  (relu): ReLU (inplace)\n",
       "  (fc): Linear (40 -> 2)\n",
       ")"
      ]
     },
     "execution_count": 9,
     "metadata": {},
     "output_type": "execute_result"
    }
   ],
   "source": [
    "dn_model"
   ]
  },
  {
   "cell_type": "code",
   "execution_count": 10,
   "metadata": {
    "collapsed": true,
    "scrolled": true
   },
   "outputs": [],
   "source": [
    "# torch can only train on Variable, so convert them to Variable\n",
    "x = torch.from_numpy(xTr).float()\n",
    "y = torch.from_numpy(yTr)\n",
    "x = x.contiguous()\n",
    "x = x.view(-1,1,1,2)\n",
    "x, y = Variable(x), Variable(y)"
   ]
  },
  {
   "cell_type": "code",
   "execution_count": 11,
   "metadata": {
    "scrolled": false
   },
   "outputs": [
    {
     "name": "stdout",
     "output_type": "stream",
     "text": [
      "Number of model parameters: 30794\n"
     ]
    }
   ],
   "source": [
    "print('Number of model parameters: {}'.format(\n",
    "            sum([p.data.nelement() for p in dn_model.parameters()])))"
   ]
  },
  {
   "cell_type": "code",
   "execution_count": 12,
   "metadata": {
    "collapsed": true
   },
   "outputs": [],
   "source": [
    "optimizer = torch.optim.SGD(dn_model.parameters(), lr=0.02)\n",
    "loss_func = torch.nn.CrossEntropyLoss()  # the target label is NOT an one-hotted"
   ]
  },
  {
   "cell_type": "code",
   "execution_count": 13,
   "metadata": {
    "collapsed": true
   },
   "outputs": [],
   "source": [
    "def adjust_learning_rate(lr,epoch,optimizer,total_epoch):  \n",
    "    for param_group in optimizer.param_groups:\n",
    "        param_group['lr'] = lr*(0.5** (epoch // (total_epoch/3)))*(0.5** (epoch // (total_epoch/2))) * (0.5 ** (epoch //(total_epoch*(3/4))))\n",
    "    return optimizer.param_groups[0]['lr']"
   ]
  },
  {
   "cell_type": "code",
   "execution_count": 14,
   "metadata": {
    "scrolled": false
   },
   "outputs": [
    {
     "data": {
      "text/plain": [
       "<matplotlib.text.Text at 0x11a94ce80>"
      ]
     },
     "execution_count": 14,
     "metadata": {},
     "output_type": "execute_result"
    },
    {
     "data": {
      "image/png": "[encoded data removed]",
      "text/plain": [
       "<matplotlib.figure.Figure at 0x11a81ea20>"
      ]
     },
     "metadata": {},
     "output_type": "display_data"
    }
   ],
   "source": [
    "# plt.ion() \n",
    "loss_data = []\n",
    "total_epoch = 1000\n",
    "for epoch in range(total_epoch):\n",
    "    lr = adjust_learning_rate(0.02,epoch,optimizer,total_epoch)\n",
    "    out = dn_model(x)                 # input x and predict based on x\n",
    "    loss = loss_func(out, y)     # must be (1. nn output, 2. target), the target label is NOT one-hotted\n",
    "#     print(out)\n",
    "    optimizer.zero_grad()   # clear gradients for next train\n",
    "    loss.backward()         # backpropagation, compute gradients\n",
    "    optimizer.step()        # apply gradients\n",
    "#     print(epoch,lr)\n",
    "    loss_data.append(loss.data[0])\n",
    "#     print(optimizer.param_groups[0]['lr'])\n",
    "\n",
    "plt.plot(range(total_epoch),loss_data)\n",
    "plt.title('Training loss')"
   ]
  },
  {
   "cell_type": "code",
   "execution_count": 15,
   "metadata": {
    "collapsed": true
   },
   "outputs": [],
   "source": [
    "def train(model,total_epoch,xTr,yTr,xTe,yTe,lr=0.02,adjust=False):\n",
    "    # torch can only train on Variable, so convert them to Variable\n",
    "    x = torch.from_numpy(xTr).float()\n",
    "    y = torch.from_numpy(yTr)\n",
    "    x = x.contiguous()\n",
    "    x = x.view(-1,2)\n",
    "    x, y = Variable(x), Variable(y)\n",
    "\n",
    "    xt = torch.from_numpy(xTe).float()\n",
    "    yt = torch.from_numpy(yTe)\n",
    "    xt = xt.view(-1,2)\n",
    "    xt, yt = Variable(xt), Variable(yt)\n",
    "    \n",
    "    \n",
    "    print('Number of model parameters: {}'.format(\n",
    "            sum([p.data.nelement() for p in model.parameters()])))\n",
    "    \n",
    "    \n",
    "    min_val = 0\n",
    "    optimizer = torch.optim.SGD(model.parameters(), lr=lr)\n",
    "    loss_func = torch.nn.CrossEntropyLoss()  # the target label is NOT an one-hotted\n",
    "    \n",
    "    loss_data = []\n",
    "    validation_loss_data = []\n",
    "    for epoch in range(total_epoch):\n",
    "\n",
    "        if adjust:\n",
    "            adjust_learning_rate(lr,epoch,optimizer,total_epoch)\n",
    "        out = model(x)                 # input x and predict based on x\n",
    "        loss = loss_func(out, y)     # must be (1. nn output, 2. target), the target label is NOT one-hotted\n",
    "    #     print(out)\n",
    "        optimizer.zero_grad()   # clear gradients for next train\n",
    "        loss.backward()         # backpropagation, compute gradients\n",
    "        optimizer.step()        # apply gradients\n",
    "#         print(lr)\n",
    "        loss_data.append(loss.data[0])\n",
    "        \n",
    "\n",
    "        current_val = validation_error(model,xTe,yTe)\n",
    "        \n",
    "        \n",
    "        if epoch == 1:\n",
    "            min_val = validation_loss_data[0]\n",
    "        validation_loss_data.append(current_val)\n",
    "#         if epoch >2 and current_val >validation_loss_data[-2]:\n",
    "#             break\n",
    "        min_val = min(min_val,validation_loss_data[-1])\n",
    "\n",
    "    \n",
    "    print(loss_data[-1],validation_loss_data[-1])\n",
    "    print('min validation error',min_val)\n",
    "    figure = plt.figure(figsize=(20, 5))\n",
    "    plt.subplot(1, 2 + 1, 1)\n",
    "    plt.plot(loss_data)\n",
    "    plt.title('Training loss vs Epoch')\n",
    "    \n",
    "    plt.subplot(1, 2 + 1, 2)\n",
    "    plt.plot(validation_loss_data)\n",
    "    plt.title('Validation loss vs Epoch')\n",
    "    "
   ]
  },
  {
   "cell_type": "code",
   "execution_count": 16,
   "metadata": {
    "collapsed": true,
    "scrolled": true
   },
   "outputs": [],
   "source": [
    "class fc_model(torch.nn.Module):\n",
    "    def __init__(self,num_classes,nb_layers,in_planes,n_hidden,dropRate):\n",
    "        super(fc_model,self).__init__()\n",
    "        self.dropRate = dropRate\n",
    "        self.num_classes = num_classes\n",
    "        self.n_hidden = n_hidden\n",
    "        self.layer = self._make_layer(nb_layers, in_planes,n_hidden, dropRate,num_classes)\n",
    "        self.out = nn.Linear(n_hidden,num_classes)\n",
    "    \n",
    "    def _make_layer(self,nb_layers,in_planes,n_hidden,dropRate,num_classes):\n",
    "        layers = []\n",
    "        for i in range(nb_layers):\n",
    "            if i == 0:\n",
    "                layers.append(nn.Linear(in_planes, n_hidden))\n",
    "                layers.append(nn.ReLU(inplace=True))\n",
    "            else:\n",
    "                layers.append(nn.Linear(n_hidden, n_hidden))\n",
    "                layers.append(nn.ReLU(inplace=True))\n",
    "\n",
    "        return nn.Sequential(*layers)\n",
    "    \n",
    "    def forward(self, x):\n",
    "        x = self.layer(x)\n",
    "#         x = F.relu(x)\n",
    "        return self.out(x)"
   ]
  },
  {
   "cell_type": "code",
   "execution_count": 17,
   "metadata": {
    "scrolled": false
   },
   "outputs": [
    {
     "name": "stdout",
     "output_type": "stream",
     "text": [
      "Number of model parameters: 530\n",
      "0.010740680620074272 0.232769941288\n",
      "min validation error 0.228092496734\n"
     ]
    },
    {
     "data": {
      "image/png": "[encoded data removed]",
      "text/plain": [
       "<matplotlib.figure.Figure at 0x11a9f9b38>"
      ]
     },
     "metadata": {},
     "output_type": "display_data"
    }
   ],
   "source": [
    "torch.manual_seed(1)\n",
    "model_2 = fc_model(2,4,2,12,0.0)\n",
    "train(model_2,1000,xTr,yTr,xTe,yTe,0.08,True)"
   ]
  },
  {
   "cell_type": "code",
   "execution_count": 18,
   "metadata": {
    "collapsed": true
   },
   "outputs": [],
   "source": [
    "class DenseLayer(nn.Module):\n",
    "    def __init__(self,in_planes,n_hidden,dropRate):\n",
    "        super(DenseLayer,self).__init__()\n",
    "        self.Denselayer = nn.Linear(in_planes,n_hidden)\n",
    "    \n",
    "    def forward(self,x):\n",
    "        out = self.Denselayer(x)\n",
    "        out = F.relu(out)\n",
    "        return torch.cat([x, out], 1)\n",
    "\n",
    "class dense_model(torch.nn.Module):\n",
    "    def __init__(self,num_classes,nb_layers,in_planes,dropRate,growth_rate):\n",
    "        super(dense_model,self).__init__()\n",
    "        self.dropRate = dropRate\n",
    "        self.num_classes = num_classes\n",
    "        self.in_planes = in_planes\n",
    "        \n",
    "        self.layer = self._make_layer(nb_layers,in_planes,dropRate,num_classes,growth_rate)\n",
    "        self.out = nn.Linear(in_planes+nb_layers*growth_rate,num_classes)\n",
    "    \n",
    "    def _make_layer(self,nb_layers,in_planes,dropRate,num_classes,growth_rate):\n",
    "        layers = []\n",
    "        for i in range(nb_layers):\n",
    "            layers.append(DenseLayer(in_planes+i*growth_rate, growth_rate,dropRate))\n",
    "#             layers.append(nn.ReLU(inplace=True))\n",
    "\n",
    "        return nn.Sequential(*layers)\n",
    "    \n",
    "    def forward(self, x):\n",
    "        x = self.layer(x)\n",
    "        x = self.out(x)\n",
    "        return (x)"
   ]
  },
  {
   "cell_type": "code",
   "execution_count": 20,
   "metadata": {},
   "outputs": [
    {
     "name": "stdout",
     "output_type": "stream",
     "text": [
      "Number of model parameters: 2634\n",
      "0.028186026960611343 0.159740231533\n",
      "min validation error 0.159740231533\n"
     ]
    },
    {
     "data": {
      "image/png": "[encoded data removed]",
      "text/plain": [
       "<matplotlib.figure.Figure at 0x11e10e0b8>"
      ]
     },
     "metadata": {},
     "output_type": "display_data"
    }
   ],
   "source": [
    "torch.manual_seed(1)\n",
    "denseNet = dense_model(num_classes=2,nb_layers=8,in_planes= 2,dropRate = 0,growth_rate=9)\n",
    "\n",
    "train(denseNet,1000,xTr,yTr,xTe,yTe,0.08,True)\n",
    "  "
   ]
  },
  {
   "cell_type": "code",
   "execution_count": 1095,
   "metadata": {
    "collapsed": true
   },
   "outputs": [],
   "source": [
    "# torch.manual_seed(1)\n",
    "# denseNet = dense_model(num_classes=2,nb_layers=8,in_planes= 2,dropRate = 0,growth_rate=8)\n",
    "\n",
    "# train(denseNet,1000,xTr,yTr,xTe,yTe,0.1)"
   ]
  },
  {
   "cell_type": "code",
   "execution_count": 21,
   "metadata": {},
   "outputs": [
    {
     "data": {
      "image/png": "[encoded data removed]",
      "text/plain": [
       "<matplotlib.figure.Figure at 0x11a800b00>"
      ]
     },
     "metadata": {},
     "output_type": "display_data"
    }
   ],
   "source": [
    "import matplotlib.pyplot as plt\n",
    "from matplotlib.colors import ListedColormap\n",
    "\n",
    "h = 0.02\n",
    "x_min, x_max = xTr[:, 0].min() - .5, xTr[:, 0].max() + .5\n",
    "y_min, y_max = xTr[:, 1].min() - .5, xTr[:, 1].max() + .5\n",
    "xx, yy = np.meshgrid(np.arange(x_min, x_max, h),\n",
    "                     np.arange(y_min, y_max, h))\n",
    "\n",
    "# just plot the dataset first\n",
    "cm = plt.cm.RdBu\n",
    "cm_bright = ListedColormap(['#FF0000', '#0000FF'])\n",
    "ax = plt.subplot(1, 1, 1)\n",
    "\n",
    "\n",
    "# Plot the training points\n",
    "ax.scatter(xTr[:, 0], xTr[:, 1], c=yTr, cmap=cm_bright,\n",
    "           edgecolors='k')\n",
    "# and testing points\n",
    "ax.scatter(xTe[:, 0], xTe[:, 1], c=yTe, cmap=cm_bright, alpha=0.6,\n",
    "           edgecolors='k')\n",
    "ax.set_xlim(xx.min(), xx.max())\n",
    "ax.set_ylim(yy.min(), yy.max())\n",
    "ax.set_xticks(())\n",
    "ax.set_yticks(())\n",
    "\n",
    "\n",
    "\n",
    "grid = np.c_[xx.ravel(), yy.ravel()]\n",
    "# torch can only train on Variable, so convert them to Variable\n",
    "grid = torch.from_numpy(grid).float()\n",
    "# x = x.contiguous()\n",
    "\n",
    "grid = Variable(grid)"
   ]
  },
  {
   "cell_type": "code",
   "execution_count": 22,
   "metadata": {},
   "outputs": [
    {
     "name": "stdout",
     "output_type": "stream",
     "text": [
      "DenseNet Conv\n",
      "(27462,)\n",
      "1\n",
      "Linear\n",
      "(27462,)\n",
      "2\n",
      "Dense Model\n",
      "(27462,)\n",
      "3\n"
     ]
    },
    {
     "data": {
      "image/png": "[encoded data removed]",
      "text/plain": [
       "<matplotlib.figure.Figure at 0x11e234470>"
      ]
     },
     "metadata": {},
     "output_type": "display_data"
    }
   ],
   "source": [
    "names = [\"DenseNet Conv\",\"Linear\",\"Dense Model\"]\n",
    "models = [dn_model,model_2,denseNet]\n",
    "i = 1\n",
    "\n",
    "figure = plt.figure(figsize=(20, 5))\n",
    "for name,model in zip(names,models):\n",
    "\n",
    "    if name == \"Linear\" or name == \"Dense Model\":\n",
    "        grid = grid.view(-1,2)\n",
    "    else:\n",
    "        grid = grid.view(-1,1,1,2)\n",
    "         \n",
    "    print(name)\n",
    "    \n",
    "    ax = plt.subplot(1, len(models) + 1, i)\n",
    "#     print(model)\n",
    "    Z = F.softmax(model(grid))\n",
    "#     print(Z)\n",
    "#     Z = Z[:,1].data.numpy()\n",
    "    Z = Z.data.numpy().reshape(-1,2)[:,1]\n",
    "    print(Z.shape)\n",
    "    # Put the result into a color plot\n",
    "    Z = Z.reshape(xx.shape)\n",
    "    ax.contourf(xx, yy, Z, cmap=cm, alpha=.8)\n",
    "\n",
    "    # Plot also the training points\n",
    "    ax.scatter(xTr[:, 0], xTr[:, 1], c=yTr, cmap=cm_bright,\n",
    "               edgecolors='k',label=\"Training\")\n",
    "    # and testing points\n",
    "    ax.scatter(xTe[:, 0], xTe[:, 1], c=yTe, cmap=cm_bright,\n",
    "               edgecolors='k', alpha=0.3,label=\"Test\")\n",
    "\n",
    "    ax.set_xlim(xx.min(), xx.max())\n",
    "    ax.set_ylim(yy.min(), yy.max())\n",
    "    ax.set_xticks(())\n",
    "    ax.set_yticks(())\n",
    "    plt.title(name+\" Decision Boundary\")\n",
    "    plt.tight_layout()\n",
    "    plt.legend()\n",
    "    print(i)\n",
    "    i+=1\n",
    "plt.show()"
   ]
  },
  {
   "cell_type": "code",
   "execution_count": 936,
   "metadata": {},
   "outputs": [
    {
     "name": "stdout",
     "output_type": "stream",
     "text": [
      "layer.0.Denselayer.weight\n",
      "layer.0.Denselayer.bias\n",
      "layer.1.Denselayer.weight\n",
      "layer.1.Denselayer.bias\n",
      "layer.2.Denselayer.weight\n",
      "layer.2.Denselayer.bias\n",
      "layer.3.Denselayer.weight\n",
      "layer.3.Denselayer.bias\n",
      "layer.4.Denselayer.weight\n",
      "layer.4.Denselayer.bias\n",
      "layer.5.Denselayer.weight\n",
      "layer.5.Denselayer.bias\n",
      "out.weight\n",
      "out.bias\n"
     ]
    }
   ],
   "source": [
    "for name,item in denseNet.named_parameters():\n",
    "    print(name)"
   ]
  },
  {
   "cell_type": "code",
   "execution_count": 937,
   "metadata": {},
   "outputs": [
    {
     "data": {
      "text/plain": [
       "dense_model (\n",
       "  (layer): Sequential (\n",
       "    (0): DenseLayer (\n",
       "      (Denselayer): Linear (2 -> 2)\n",
       "    )\n",
       "    (1): DenseLayer (\n",
       "      (Denselayer): Linear (4 -> 2)\n",
       "    )\n",
       "    (2): DenseLayer (\n",
       "      (Denselayer): Linear (6 -> 2)\n",
       "    )\n",
       "    (3): DenseLayer (\n",
       "      (Denselayer): Linear (8 -> 2)\n",
       "    )\n",
       "    (4): DenseLayer (\n",
       "      (Denselayer): Linear (10 -> 2)\n",
       "    )\n",
       "    (5): DenseLayer (\n",
       "      (Denselayer): Linear (12 -> 2)\n",
       "    )\n",
       "  )\n",
       "  (out): Linear (14 -> 2)\n",
       ")"
      ]
     },
     "execution_count": 937,
     "metadata": {},
     "output_type": "execute_result"
    }
   ],
   "source": [
    "denseNet.double()"
   ]
  },
  {
   "cell_type": "code",
   "execution_count": 1017,
   "metadata": {},
   "outputs": [
    {
     "name": "stdout",
     "output_type": "stream",
     "text": [
      "('layer.0.Denselayer.bias', Parameter containing:\n",
      "-0.7263\n",
      "-0.5623\n",
      "[torch.DoubleTensor of size 2]\n",
      ")\n"
     ]
    },
    {
     "ename": "AttributeError",
     "evalue": "'tuple' object has no attribute 'data'",
     "output_type": "error",
     "traceback": [
      "\u001b[0;31m---------------------------------------------------------------------------\u001b[0m",
      "\u001b[0;31mAttributeError\u001b[0m                            Traceback (most recent call last)",
      "\u001b[0;32m<ipython-input-1017-fe7409885f34>\u001b[0m in \u001b[0;36m<module>\u001b[0;34m()\u001b[0m\n\u001b[1;32m     24\u001b[0m \u001b[0mprint\u001b[0m\u001b[0;34m(\u001b[0m\u001b[0mbody_model\u001b[0m\u001b[0;34m[\u001b[0m\u001b[0;36m1\u001b[0m\u001b[0;34m]\u001b[0m\u001b[0;34m)\u001b[0m\u001b[0;34m\u001b[0m\u001b[0m\n\u001b[1;32m     25\u001b[0m \u001b[0mlayer1\u001b[0m \u001b[0;34m=\u001b[0m \u001b[0mbody_model\u001b[0m\u001b[0;34m[\u001b[0m\u001b[0;36m1\u001b[0m\u001b[0;34m]\u001b[0m\u001b[0;34m\u001b[0m\u001b[0m\n\u001b[0;32m---> 26\u001b[0;31m \u001b[0mtensor\u001b[0m \u001b[0;34m=\u001b[0m \u001b[0mlayer1\u001b[0m\u001b[0;34m.\u001b[0m\u001b[0mdata\u001b[0m\u001b[0;34m.\u001b[0m\u001b[0mnumpy\u001b[0m\u001b[0;34m(\u001b[0m\u001b[0;34m)\u001b[0m\u001b[0;34m\u001b[0m\u001b[0m\n\u001b[0m\u001b[1;32m     27\u001b[0m \u001b[0mplot_kernels\u001b[0m\u001b[0;34m(\u001b[0m\u001b[0mtensor\u001b[0m\u001b[0;34m)\u001b[0m\u001b[0;34m\u001b[0m\u001b[0m\n",
      "\u001b[0;31mAttributeError\u001b[0m: 'tuple' object has no attribute 'data'"
     ]
    }
   ],
   "source": [
    "def plot_kernels(tensor, num_cols=6):\n",
    "    if not tensor.ndim==4:\n",
    "        raise Exception(\"assumes a 4D tensor\")\n",
    "    if not tensor.shape[-1]==3:\n",
    "        raise Exception(\"last dim needs to be 3 to plot\")\n",
    "    num_kernels = tensor.shape[0]\n",
    "    num_rows = 1+ num_kernels // num_cols\n",
    "    fig = plt.figure(figsize=(num_cols,num_rows))\n",
    "    for i in range(tensor.shape[0]):\n",
    "        ax1 = fig.add_subplot(num_rows,num_cols,i+1)\n",
    "        ax1.imshow(tensor[i])\n",
    "        ax1.axis('off')\n",
    "        ax1.set_xticklabels([])\n",
    "        ax1.set_yticklabels([])\n",
    "\n",
    "    plt.subplots_adjust(wspace=0.1, hspace=0.1)\n",
    "    plt.show()\n",
    "    \n",
    "  \n",
    "mm = denseNet.double()\n",
    "filters = mm.modules\n",
    "body_model = [i for i in mm.named_parameters()]\n",
    "\n",
    "print(body_model[1])\n",
    "layer1 = body_model[1]\n",
    "tensor = layer1.data.numpy()\n",
    "plot_kernels(tensor)"
   ]
  },
  {
   "cell_type": "code",
   "execution_count": 1022,
   "metadata": {},
   "outputs": [
    {
     "data": {
      "text/plain": [
       "('layer.0.Denselayer.weight', Parameter containing:\n",
       " -0.1155  0.6824\n",
       "  0.4742  0.5790\n",
       " [torch.DoubleTensor of size 2x2])"
      ]
     },
     "execution_count": 1022,
     "metadata": {},
     "output_type": "execute_result"
    }
   ],
   "source": [
    "body_model"
   ]
  },
  {
   "cell_type": "code",
   "execution_count": 1019,
   "metadata": {},
   "outputs": [
    {
     "data": {
      "text/plain": [
       "Variable containing:\n",
       "-1.4773 -1.0486\n",
       "-1.4573 -1.0486\n",
       "-1.4373 -1.0486\n",
       "       ⋮        \n",
       " 2.5027  1.5714\n",
       " 2.5227  1.5714\n",
       " 2.5427  1.5714\n",
       "[torch.FloatTensor of size 26664x2]"
      ]
     },
     "execution_count": 1019,
     "metadata": {},
     "output_type": "execute_result"
    }
   ],
   "source": [
    "grid"
   ]
  },
  {
   "cell_type": "code",
   "execution_count": 1027,
   "metadata": {},
   "outputs": [
    {
     "data": {
      "text/plain": [
       "Variable containing:\n",
       "-1.4773\n",
       "-1.0486\n",
       "[torch.FloatTensor of size 2]"
      ]
     },
     "execution_count": 1027,
     "metadata": {},
     "output_type": "execute_result"
    }
   ],
   "source": [
    "body_model[0]*grid[0]"
   ]
  },
  {
   "cell_type": "code",
   "execution_count": 1035,
   "metadata": {},
   "outputs": [
    {
     "ename": "TypeError",
     "evalue": "torch.addmv received an invalid combination of arguments - got (int, torch.DoubleTensor, int, torch.DoubleTensor, torch.FloatTensor, out=torch.DoubleTensor), but expected one of:\n * (torch.DoubleTensor source, torch.DoubleTensor mat, torch.DoubleTensor vec, *, torch.DoubleTensor out)\n * (float beta, torch.DoubleTensor source, torch.DoubleTensor mat, torch.DoubleTensor vec, *, torch.DoubleTensor out)\n * (torch.DoubleTensor source, float alpha, torch.DoubleTensor mat, torch.DoubleTensor vec, *, torch.DoubleTensor out)\n * (float beta, torch.DoubleTensor source, float alpha, torch.DoubleTensor mat, torch.DoubleTensor vec, *, torch.DoubleTensor out)\n      didn't match because some of the arguments have invalid types: (\u001b[32;1mint\u001b[0m, \u001b[32;1mtorch.DoubleTensor\u001b[0m, \u001b[32;1mint\u001b[0m, \u001b[32;1mtorch.DoubleTensor\u001b[0m, \u001b[31;1mtorch.FloatTensor\u001b[0m, \u001b[32;1mout=torch.DoubleTensor\u001b[0m)\n",
     "output_type": "error",
     "traceback": [
      "\u001b[0;31m---------------------------------------------------------------------------\u001b[0m",
      "\u001b[0;31mTypeError\u001b[0m                                 Traceback (most recent call last)",
      "\u001b[0;32m<ipython-input-1035-79d489c56cf3>\u001b[0m in \u001b[0;36m<module>\u001b[0;34m()\u001b[0m\n\u001b[0;32m----> 1\u001b[0;31m \u001b[0mtorch\u001b[0m\u001b[0;34m.\u001b[0m\u001b[0mmatmul\u001b[0m\u001b[0;34m(\u001b[0m\u001b[0mbody_model\u001b[0m\u001b[0;34m[\u001b[0m\u001b[0;36m0\u001b[0m\u001b[0;34m]\u001b[0m\u001b[0;34m[\u001b[0m\u001b[0;36m1\u001b[0m\u001b[0;34m]\u001b[0m\u001b[0;34m,\u001b[0m\u001b[0mgrid\u001b[0m\u001b[0;34m[\u001b[0m\u001b[0;36m0\u001b[0m\u001b[0;34m]\u001b[0m\u001b[0;34m)\u001b[0m\u001b[0;34m\u001b[0m\u001b[0m\n\u001b[0m",
      "\u001b[0;32m/Users/zhitingchen/anaconda/lib/python3.6/site-packages/torch/functional.py\u001b[0m in \u001b[0;36mmatmul\u001b[0;34m(tensor1, tensor2, out)\u001b[0m\n\u001b[1;32m    161\u001b[0m     \u001b[0;32mif\u001b[0m \u001b[0mdim_tensor1\u001b[0m \u001b[0;34m==\u001b[0m \u001b[0;36m2\u001b[0m \u001b[0;32mand\u001b[0m \u001b[0mdim_tensor2\u001b[0m \u001b[0;34m==\u001b[0m \u001b[0;36m1\u001b[0m\u001b[0;34m:\u001b[0m\u001b[0;34m\u001b[0m\u001b[0m\n\u001b[1;32m    162\u001b[0m         \u001b[0;32mif\u001b[0m \u001b[0mout\u001b[0m \u001b[0;32mis\u001b[0m \u001b[0;32mNone\u001b[0m\u001b[0;34m:\u001b[0m\u001b[0;34m\u001b[0m\u001b[0m\n\u001b[0;32m--> 163\u001b[0;31m             \u001b[0;32mreturn\u001b[0m \u001b[0mtorch\u001b[0m\u001b[0;34m.\u001b[0m\u001b[0mmv\u001b[0m\u001b[0;34m(\u001b[0m\u001b[0mtensor1\u001b[0m\u001b[0;34m,\u001b[0m \u001b[0mtensor2\u001b[0m\u001b[0;34m)\u001b[0m\u001b[0;34m\u001b[0m\u001b[0m\n\u001b[0m\u001b[1;32m    164\u001b[0m         \u001b[0;32melse\u001b[0m\u001b[0;34m:\u001b[0m\u001b[0;34m\u001b[0m\u001b[0m\n\u001b[1;32m    165\u001b[0m             \u001b[0;32mreturn\u001b[0m \u001b[0mtorch\u001b[0m\u001b[0;34m.\u001b[0m\u001b[0mmv\u001b[0m\u001b[0;34m(\u001b[0m\u001b[0mtensor1\u001b[0m\u001b[0;34m,\u001b[0m \u001b[0mtensor2\u001b[0m\u001b[0;34m,\u001b[0m \u001b[0mout\u001b[0m\u001b[0;34m=\u001b[0m\u001b[0mout\u001b[0m\u001b[0;34m)\u001b[0m\u001b[0;34m\u001b[0m\u001b[0m\n",
      "\u001b[0;32m/Users/zhitingchen/anaconda/lib/python3.6/site-packages/torch/autograd/variable.py\u001b[0m in \u001b[0;36mmv\u001b[0;34m(self, vector)\u001b[0m\n\u001b[1;32m    586\u001b[0m     \u001b[0;32mdef\u001b[0m \u001b[0mmv\u001b[0m\u001b[0;34m(\u001b[0m\u001b[0mself\u001b[0m\u001b[0;34m,\u001b[0m \u001b[0mvector\u001b[0m\u001b[0;34m)\u001b[0m\u001b[0;34m:\u001b[0m\u001b[0;34m\u001b[0m\u001b[0m\n\u001b[1;32m    587\u001b[0m         \u001b[0moutput\u001b[0m \u001b[0;34m=\u001b[0m \u001b[0mVariable\u001b[0m\u001b[0;34m(\u001b[0m\u001b[0mself\u001b[0m\u001b[0;34m.\u001b[0m\u001b[0mdata\u001b[0m\u001b[0;34m.\u001b[0m\u001b[0mnew\u001b[0m\u001b[0;34m(\u001b[0m\u001b[0mself\u001b[0m\u001b[0;34m.\u001b[0m\u001b[0mdata\u001b[0m\u001b[0;34m.\u001b[0m\u001b[0msize\u001b[0m\u001b[0;34m(\u001b[0m\u001b[0;36m0\u001b[0m\u001b[0;34m)\u001b[0m\u001b[0;34m)\u001b[0m\u001b[0;34m)\u001b[0m\u001b[0;34m\u001b[0m\u001b[0m\n\u001b[0;32m--> 588\u001b[0;31m         \u001b[0;32mreturn\u001b[0m \u001b[0mself\u001b[0m\u001b[0;34m.\u001b[0m\u001b[0m_static_blas\u001b[0m\u001b[0;34m(\u001b[0m\u001b[0mAddmv\u001b[0m\u001b[0;34m,\u001b[0m \u001b[0;34m(\u001b[0m\u001b[0moutput\u001b[0m\u001b[0;34m,\u001b[0m \u001b[0;36m0\u001b[0m\u001b[0;34m,\u001b[0m \u001b[0;36m1\u001b[0m\u001b[0;34m,\u001b[0m \u001b[0mself\u001b[0m\u001b[0;34m,\u001b[0m \u001b[0mvector\u001b[0m\u001b[0;34m)\u001b[0m\u001b[0;34m,\u001b[0m \u001b[0;32mFalse\u001b[0m\u001b[0;34m)\u001b[0m\u001b[0;34m\u001b[0m\u001b[0m\n\u001b[0m\u001b[1;32m    589\u001b[0m \u001b[0;34m\u001b[0m\u001b[0m\n\u001b[1;32m    590\u001b[0m     \u001b[0;32mdef\u001b[0m \u001b[0mger\u001b[0m\u001b[0;34m(\u001b[0m\u001b[0mself\u001b[0m\u001b[0;34m,\u001b[0m \u001b[0mvector\u001b[0m\u001b[0;34m)\u001b[0m\u001b[0;34m:\u001b[0m\u001b[0;34m\u001b[0m\u001b[0m\n",
      "\u001b[0;32m/Users/zhitingchen/anaconda/lib/python3.6/site-packages/torch/autograd/variable.py\u001b[0m in \u001b[0;36m_static_blas\u001b[0;34m(cls, args, inplace)\u001b[0m\n\u001b[1;32m    570\u001b[0m         \u001b[0;32mif\u001b[0m \u001b[0mnum_args\u001b[0m \u001b[0;34m==\u001b[0m \u001b[0;36m4\u001b[0m\u001b[0;34m:\u001b[0m\u001b[0;34m\u001b[0m\u001b[0m\n\u001b[1;32m    571\u001b[0m             \u001b[0malpha\u001b[0m \u001b[0;34m=\u001b[0m \u001b[0margs\u001b[0m\u001b[0;34m[\u001b[0m\u001b[0;36m1\u001b[0m\u001b[0;34m]\u001b[0m\u001b[0;34m\u001b[0m\u001b[0m\n\u001b[0;32m--> 572\u001b[0;31m         \u001b[0;32mreturn\u001b[0m \u001b[0mcls\u001b[0m\u001b[0;34m.\u001b[0m\u001b[0mapply\u001b[0m\u001b[0;34m(\u001b[0m\u001b[0;34m*\u001b[0m\u001b[0;34m(\u001b[0m\u001b[0margs\u001b[0m\u001b[0;34m[\u001b[0m\u001b[0;34m:\u001b[0m\u001b[0;36m1\u001b[0m\u001b[0;34m]\u001b[0m \u001b[0;34m+\u001b[0m \u001b[0margs\u001b[0m\u001b[0;34m[\u001b[0m\u001b[0;34m-\u001b[0m\u001b[0;36m2\u001b[0m\u001b[0;34m:\u001b[0m\u001b[0;34m]\u001b[0m \u001b[0;34m+\u001b[0m \u001b[0;34m(\u001b[0m\u001b[0malpha\u001b[0m\u001b[0;34m,\u001b[0m \u001b[0mbeta\u001b[0m\u001b[0;34m,\u001b[0m \u001b[0minplace\u001b[0m\u001b[0;34m)\u001b[0m\u001b[0;34m)\u001b[0m\u001b[0;34m)\u001b[0m\u001b[0;34m\u001b[0m\u001b[0m\n\u001b[0m\u001b[1;32m    573\u001b[0m \u001b[0;34m\u001b[0m\u001b[0m\n\u001b[1;32m    574\u001b[0m     \u001b[0;32mdef\u001b[0m \u001b[0m_blas\u001b[0m\u001b[0;34m(\u001b[0m\u001b[0mself\u001b[0m\u001b[0;34m,\u001b[0m \u001b[0mcls\u001b[0m\u001b[0;34m,\u001b[0m \u001b[0margs\u001b[0m\u001b[0;34m,\u001b[0m \u001b[0minplace\u001b[0m\u001b[0;34m)\u001b[0m\u001b[0;34m:\u001b[0m\u001b[0;34m\u001b[0m\u001b[0m\n",
      "\u001b[0;32m/Users/zhitingchen/anaconda/lib/python3.6/site-packages/torch/autograd/_functions/blas.py\u001b[0m in \u001b[0;36mforward\u001b[0;34m(ctx, add_vector, matrix, vector, alpha, beta, inplace)\u001b[0m\n\u001b[1;32m    142\u001b[0m         \u001b[0moutput\u001b[0m \u001b[0;34m=\u001b[0m \u001b[0m_get_output\u001b[0m\u001b[0;34m(\u001b[0m\u001b[0mctx\u001b[0m\u001b[0;34m,\u001b[0m \u001b[0madd_vector\u001b[0m\u001b[0;34m,\u001b[0m \u001b[0minplace\u001b[0m\u001b[0;34m=\u001b[0m\u001b[0minplace\u001b[0m\u001b[0;34m)\u001b[0m\u001b[0;34m\u001b[0m\u001b[0m\n\u001b[1;32m    143\u001b[0m         return torch.addmv(alpha, add_vector, beta,\n\u001b[0;32m--> 144\u001b[0;31m                            matrix, vector, out=output)\n\u001b[0m\u001b[1;32m    145\u001b[0m \u001b[0;34m\u001b[0m\u001b[0m\n\u001b[1;32m    146\u001b[0m     \u001b[0;34m@\u001b[0m\u001b[0mstaticmethod\u001b[0m\u001b[0;34m\u001b[0m\u001b[0m\n",
      "\u001b[0;31mTypeError\u001b[0m: torch.addmv received an invalid combination of arguments - got (int, torch.DoubleTensor, int, torch.DoubleTensor, torch.FloatTensor, out=torch.DoubleTensor), but expected one of:\n * (torch.DoubleTensor source, torch.DoubleTensor mat, torch.DoubleTensor vec, *, torch.DoubleTensor out)\n * (float beta, torch.DoubleTensor source, torch.DoubleTensor mat, torch.DoubleTensor vec, *, torch.DoubleTensor out)\n * (torch.DoubleTensor source, float alpha, torch.DoubleTensor mat, torch.DoubleTensor vec, *, torch.DoubleTensor out)\n * (float beta, torch.DoubleTensor source, float alpha, torch.DoubleTensor mat, torch.DoubleTensor vec, *, torch.DoubleTensor out)\n      didn't match because some of the arguments have invalid types: (\u001b[32;1mint\u001b[0m, \u001b[32;1mtorch.DoubleTensor\u001b[0m, \u001b[32;1mint\u001b[0m, \u001b[32;1mtorch.DoubleTensor\u001b[0m, \u001b[31;1mtorch.FloatTensor\u001b[0m, \u001b[32;1mout=torch.DoubleTensor\u001b[0m)\n"
     ]
    }
   ],
   "source": [
    "torch.matmul(body_model[0][1],grid[0])"
   ]
  },
  {
   "cell_type": "code",
   "execution_count": 1040,
   "metadata": {},
   "outputs": [
    {
     "data": {
      "text/plain": [
       "Variable containing:\n",
       "-0.5556 -1.2779\n",
       "-1.4267 -1.1695\n",
       "[torch.DoubleTensor of size 2x2]"
      ]
     },
     "execution_count": 1040,
     "metadata": {},
     "output_type": "execute_result"
    }
   ],
   "source": [
    "(body_model[0][1] * grid[0].double()).+body_model[1][1]"
   ]
  },
  {
   "cell_type": "code",
   "execution_count": 1058,
   "metadata": {},
   "outputs": [
    {
     "data": {
      "text/plain": [
       "Variable containing:\n",
       "-1.2712\n",
       "-1.8700\n",
       "[torch.DoubleTensor of size 2x1]"
      ]
     },
     "execution_count": 1058,
     "metadata": {},
     "output_type": "execute_result"
    }
   ],
   "source": [
    "body_model[0][1].mm(grid[0].view(2,1).double())+body_model[1][1].view(2,1)"
   ]
  },
  {
   "cell_type": "code",
   "execution_count": 1051,
   "metadata": {},
   "outputs": [
    {
     "data": {
      "text/plain": [
       "Variable containing:\n",
       " 0.1706 -1.0081\n",
       "-0.4972 -0.6072\n",
       "[torch.DoubleTensor of size 2x2]"
      ]
     },
     "execution_count": 1051,
     "metadata": {},
     "output_type": "execute_result"
    }
   ],
   "source": [
    "torch.mul(body_model[0][1],grid[0].view(2,1).double())+body_model[1][1].view(2,1)"
   ]
  },
  {
   "cell_type": "code",
   "execution_count": 1044,
   "metadata": {},
   "outputs": [
    {
     "data": {
      "text/plain": [
       "Parameter containing:\n",
       "-0.7263\n",
       "-0.5623\n",
       "[torch.DoubleTensor of size 2]"
      ]
     },
     "execution_count": 1044,
     "metadata": {},
     "output_type": "execute_result"
    }
   ],
   "source": [
    "body_model[1][1]"
   ]
  },
  {
   "cell_type": "code",
   "execution_count": 1048,
   "metadata": {},
   "outputs": [
    {
     "data": {
      "text/plain": [
       "Variable containing:\n",
       "-1.4773\n",
       "-1.0486\n",
       "[torch.FloatTensor of size 2x1]"
      ]
     },
     "execution_count": 1048,
     "metadata": {},
     "output_type": "execute_result"
    }
   ],
   "source": [
    "grid[0].view(2,1)"
   ]
  },
  {
   "cell_type": "code",
   "execution_count": 1057,
   "metadata": {},
   "outputs": [
    {
     "data": {
      "text/plain": [
       "Variable containing:\n",
       "-0.7263\n",
       "-0.5623\n",
       "[torch.DoubleTensor of size 2x1]"
      ]
     },
     "execution_count": 1057,
     "metadata": {},
     "output_type": "execute_result"
    }
   ],
   "source": [
    "body_model[1][1].view(2,1)"
   ]
  },
  {
   "cell_type": "code",
   "execution_count": null,
   "metadata": {
    "collapsed": true
   },
   "outputs": [],
   "source": []
  }
 ],
 "metadata": {
  "kernelspec": {
   "display_name": "Python 3",
   "language": "python",
   "name": "python3"
  },
  "language_info": {
   "codemirror_mode": {
    "name": "ipython",
    "version": 3
   },
   "file_extension": ".py",
   "mimetype": "text/x-python",
   "name": "python",
   "nbconvert_exporter": "python",
   "pygments_lexer": "ipython3",
   "version": "3.6.1"
  }
 },
 "nbformat": 4,
 "nbformat_minor": 2
}
