{
 "cells": [
  {
   "cell_type": "code",
   "execution_count": 392,
   "metadata": {},
   "outputs": [
    {
     "data": {
      "text/plain": [
       "<torch._C.Generator at 0x11172d0a8>"
      ]
     },
     "execution_count": 392,
     "metadata": {},
     "output_type": "execute_result"
    }
   ],
   "source": [
    "import torch\n",
    "from torch.autograd import Variable\n",
    "import torch.nn.functional as F\n",
    "import matplotlib.pyplot as plt\n",
    "import numpy as np\n",
    "import torch.nn as nn\n",
    "from sklearn import datasets\n",
    "import sklearn\n",
    "%matplotlib inline\n",
    "\n",
    "torch.manual_seed(1)    # reproducible"
   ]
  },
  {
   "cell_type": "code",
   "execution_count": 393,
   "metadata": {
    "collapsed": true
   },
   "outputs": [],
   "source": [
    "def generate_data(N=80):\n",
    "    r = np.linspace(0, 2,num=N)\n",
    "    \n",
    "    r1 = (2)*np.random.random_sample(N)\n",
    "    r2 = (2)*np.random.random_sample(N)\n",
    "    xTr1 = np.array([r1, np.power(r1,3)-2*np.square(r1)]).T\n",
    "    xTr2 = np.array([r2, np.power(r2,3)-2*np.square(r2)-2.5+np.random.random_sample(N)]).T\n",
    "    xTr = np.concatenate([xTr1, xTr2], axis=0)\n",
    "    yTr = np.concatenate([np.ones(N), -1 * np.ones(N)])\n",
    "    xTr = xTr + np.random.randn(xTr.shape[0], xTr.shape[1])*0.2\n",
    "    \n",
    "    xTe = xTr[::2,:]\n",
    "    yTe = yTr[::2]\n",
    "    xTr = xTr[1::2,:]\n",
    "    yTr = yTr[1::2]\n",
    "    \n",
    "    return xTr,yTr,xTe,yTe"
   ]
  },
  {
   "cell_type": "code",
   "execution_count": 394,
   "metadata": {},
   "outputs": [
    {
     "data": {
      "image/png": "[encoded data removed]",
      "text/plain": [
       "<matplotlib.figure.Figure at 0x11f07a7b8>"
      ]
     },
     "metadata": {},
     "output_type": "display_data"
    }
   ],
   "source": [
    "xTr,yTr,xTe,yTe=generate_data()\n",
    "plt.scatter(xTr[yTr == 1, 0], xTr[yTr == 1, 1], c='b')\n",
    "plt.scatter(xTr[yTr != 1, 0], xTr[yTr != 1, 1], c='r')\n",
    "plt.legend([\"+1\",\"-1\"])\n",
    "plt.show()"
   ]
  },
  {
   "cell_type": "code",
   "execution_count": 395,
   "metadata": {},
   "outputs": [],
   "source": [
    "def two_moons(N=10):\n",
    "    x = sklearn.datasets.make_moons(n_samples=N, shuffle=False, noise=0.1, random_state=None)\n",
    "    xTr = x[0]\n",
    "    yTr = x[1]\n",
    "    xTe = xTr[::2,:]\n",
    "    yTe = yTr[::2]\n",
    "    xTr = xTr[1::2,:]\n",
    "    yTr = yTr[1::2]\n",
    "    \n",
    "    return xTr,yTr,xTe,yTe"
   ]
  },
  {
   "cell_type": "code",
   "execution_count": 396,
   "metadata": {},
   "outputs": [
    {
     "data": {
      "image/png": "[encoded data removed]",
      "text/plain": [
       "<matplotlib.figure.Figure at 0x11aaffbe0>"
      ]
     },
     "metadata": {},
     "output_type": "display_data"
    }
   ],
   "source": [
    "xTr,yTr,xTe,yTe=two_moons(40)\n",
    "plt.scatter(xTr[yTr == 1, 0], xTr[yTr == 1, 1], c='b')\n",
    "plt.scatter(xTr[yTr != 1, 0], xTr[yTr != 1, 1], c='r')\n",
    "plt.legend([\"+1\",\"-1\"])\n",
    "plt.show()"
   ]
  },
  {
   "cell_type": "code",
   "execution_count": 397,
   "metadata": {
    "collapsed": true
   },
   "outputs": [],
   "source": [
    "import densenet as dn"
   ]
  },
  {
   "cell_type": "code",
   "execution_count": 398,
   "metadata": {
    "collapsed": true
   },
   "outputs": [],
   "source": [
    "dn_model = dn.DenseNet3(20, 2, 4, reduction=0.5,\n",
    "                     bottleneck=True, dropRate=0)"
   ]
  },
  {
   "cell_type": "code",
   "execution_count": 399,
   "metadata": {},
   "outputs": [
    {
     "data": {
      "text/plain": [
       "DenseNet3 (\n",
       "  (conv1): Conv2d(1, 8, kernel_size=(3, 3), stride=(1, 1), padding=(1, 1), bias=False)\n",
       "  (block1): DenseBlock (\n",
       "    (layer): Sequential (\n",
       "      (0): BottleneckBlock (\n",
       "        (bn1): BatchNorm2d(8, eps=1e-05, momentum=0.1, affine=True)\n",
       "        (relu): ReLU (inplace)\n",
       "        (conv1): Conv2d(8, 16, kernel_size=(3, 3), stride=(1, 1), padding=(1, 1), bias=False)\n",
       "        (bn2): BatchNorm2d(16, eps=1e-05, momentum=0.1, affine=True)\n",
       "        (conv2): Conv2d(16, 4, kernel_size=(3, 3), stride=(1, 1), padding=(1, 1), bias=False)\n",
       "      )\n",
       "      (1): BottleneckBlock (\n",
       "        (bn1): BatchNorm2d(12, eps=1e-05, momentum=0.1, affine=True)\n",
       "        (relu): ReLU (inplace)\n",
       "        (conv1): Conv2d(12, 16, kernel_size=(3, 3), stride=(1, 1), padding=(1, 1), bias=False)\n",
       "        (bn2): BatchNorm2d(16, eps=1e-05, momentum=0.1, affine=True)\n",
       "        (conv2): Conv2d(16, 4, kernel_size=(3, 3), stride=(1, 1), padding=(1, 1), bias=False)\n",
       "      )\n",
       "      (2): BottleneckBlock (\n",
       "        (bn1): BatchNorm2d(16, eps=1e-05, momentum=0.1, affine=True)\n",
       "        (relu): ReLU (inplace)\n",
       "        (conv1): Conv2d(16, 16, kernel_size=(3, 3), stride=(1, 1), padding=(1, 1), bias=False)\n",
       "        (bn2): BatchNorm2d(16, eps=1e-05, momentum=0.1, affine=True)\n",
       "        (conv2): Conv2d(16, 4, kernel_size=(3, 3), stride=(1, 1), padding=(1, 1), bias=False)\n",
       "      )\n",
       "      (3): BottleneckBlock (\n",
       "        (bn1): BatchNorm2d(20, eps=1e-05, momentum=0.1, affine=True)\n",
       "        (relu): ReLU (inplace)\n",
       "        (conv1): Conv2d(20, 16, kernel_size=(3, 3), stride=(1, 1), padding=(1, 1), bias=False)\n",
       "        (bn2): BatchNorm2d(16, eps=1e-05, momentum=0.1, affine=True)\n",
       "        (conv2): Conv2d(16, 4, kernel_size=(3, 3), stride=(1, 1), padding=(1, 1), bias=False)\n",
       "      )\n",
       "      (4): BottleneckBlock (\n",
       "        (bn1): BatchNorm2d(24, eps=1e-05, momentum=0.1, affine=True)\n",
       "        (relu): ReLU (inplace)\n",
       "        (conv1): Conv2d(24, 16, kernel_size=(3, 3), stride=(1, 1), padding=(1, 1), bias=False)\n",
       "        (bn2): BatchNorm2d(16, eps=1e-05, momentum=0.1, affine=True)\n",
       "        (conv2): Conv2d(16, 4, kernel_size=(3, 3), stride=(1, 1), padding=(1, 1), bias=False)\n",
       "      )\n",
       "      (5): BottleneckBlock (\n",
       "        (bn1): BatchNorm2d(28, eps=1e-05, momentum=0.1, affine=True)\n",
       "        (relu): ReLU (inplace)\n",
       "        (conv1): Conv2d(28, 16, kernel_size=(3, 3), stride=(1, 1), padding=(1, 1), bias=False)\n",
       "        (bn2): BatchNorm2d(16, eps=1e-05, momentum=0.1, affine=True)\n",
       "        (conv2): Conv2d(16, 4, kernel_size=(3, 3), stride=(1, 1), padding=(1, 1), bias=False)\n",
       "      )\n",
       "      (6): BottleneckBlock (\n",
       "        (bn1): BatchNorm2d(32, eps=1e-05, momentum=0.1, affine=True)\n",
       "        (relu): ReLU (inplace)\n",
       "        (conv1): Conv2d(32, 16, kernel_size=(3, 3), stride=(1, 1), padding=(1, 1), bias=False)\n",
       "        (bn2): BatchNorm2d(16, eps=1e-05, momentum=0.1, affine=True)\n",
       "        (conv2): Conv2d(16, 4, kernel_size=(3, 3), stride=(1, 1), padding=(1, 1), bias=False)\n",
       "      )\n",
       "      (7): BottleneckBlock (\n",
       "        (bn1): BatchNorm2d(36, eps=1e-05, momentum=0.1, affine=True)\n",
       "        (relu): ReLU (inplace)\n",
       "        (conv1): Conv2d(36, 16, kernel_size=(3, 3), stride=(1, 1), padding=(1, 1), bias=False)\n",
       "        (bn2): BatchNorm2d(16, eps=1e-05, momentum=0.1, affine=True)\n",
       "        (conv2): Conv2d(16, 4, kernel_size=(3, 3), stride=(1, 1), padding=(1, 1), bias=False)\n",
       "      )\n",
       "    )\n",
       "  )\n",
       "  (bn1): BatchNorm2d(40, eps=1e-05, momentum=0.1, affine=True)\n",
       "  (relu): ReLU (inplace)\n",
       "  (fc): Linear (40 -> 2)\n",
       ")"
      ]
     },
     "execution_count": 399,
     "metadata": {},
     "output_type": "execute_result"
    }
   ],
   "source": [
    "dn_model"
   ]
  },
  {
   "cell_type": "code",
   "execution_count": 433,
   "metadata": {
    "scrolled": true
   },
   "outputs": [],
   "source": [
    "# torch can only train on Variable, so convert them to Variable\n",
    "x = torch.from_numpy(xTr).float()\n",
    "y = torch.from_numpy(yTr)\n",
    "x = x.contiguous()\n",
    "size = x.size()[0]\n",
    "x = x.view(size,1,1,2)\n",
    "x, y = Variable(x), Variable(y)"
   ]
  },
  {
   "cell_type": "code",
   "execution_count": 434,
   "metadata": {
    "scrolled": false
   },
   "outputs": [
    {
     "name": "stdout",
     "output_type": "stream",
     "text": [
      "Number of model parameters: 30794\n"
     ]
    }
   ],
   "source": [
    "print('Number of model parameters: {}'.format(\n",
    "            sum([p.data.nelement() for p in dn_model.parameters()])))"
   ]
  },
  {
   "cell_type": "code",
   "execution_count": 435,
   "metadata": {
    "collapsed": true
   },
   "outputs": [],
   "source": [
    "optimizer = torch.optim.SGD(dn_model.parameters(), lr=0.02)\n",
    "loss_func = torch.nn.CrossEntropyLoss()  # the target label is NOT an one-hotted"
   ]
  },
  {
   "cell_type": "code",
   "execution_count": 462,
   "metadata": {
    "scrolled": false
   },
   "outputs": [
    {
     "ename": "ValueError",
     "evalue": "Expected 4D tensor as input, got 2D tensor instead.",
     "output_type": "error",
     "traceback": [
      "\u001b[0;31m---------------------------------------------------------------------------\u001b[0m",
      "\u001b[0;31mValueError\u001b[0m                                Traceback (most recent call last)",
      "\u001b[0;32m<ipython-input-462-440cb7f52dde>\u001b[0m in \u001b[0;36m<module>\u001b[0;34m()\u001b[0m\n\u001b[1;32m      1\u001b[0m \u001b[0;31m# plt.ion()\u001b[0m\u001b[0;34m\u001b[0m\u001b[0;34m\u001b[0m\u001b[0m\n\u001b[1;32m      2\u001b[0m \u001b[0;32mfor\u001b[0m \u001b[0mt\u001b[0m \u001b[0;32min\u001b[0m \u001b[0mrange\u001b[0m\u001b[0;34m(\u001b[0m\u001b[0;36m100\u001b[0m\u001b[0;34m)\u001b[0m\u001b[0;34m:\u001b[0m\u001b[0;34m\u001b[0m\u001b[0m\n\u001b[0;32m----> 3\u001b[0;31m     \u001b[0mout\u001b[0m \u001b[0;34m=\u001b[0m \u001b[0mdn_model\u001b[0m\u001b[0;34m(\u001b[0m\u001b[0mx\u001b[0m\u001b[0;34m)\u001b[0m                 \u001b[0;31m# input x and predict based on x\u001b[0m\u001b[0;34m\u001b[0m\u001b[0m\n\u001b[0m\u001b[1;32m      4\u001b[0m     \u001b[0mloss\u001b[0m \u001b[0;34m=\u001b[0m \u001b[0mloss_func\u001b[0m\u001b[0;34m(\u001b[0m\u001b[0mout\u001b[0m\u001b[0;34m,\u001b[0m \u001b[0my\u001b[0m\u001b[0;34m)\u001b[0m     \u001b[0;31m# must be (1. nn output, 2. target), the target label is NOT one-hotted\u001b[0m\u001b[0;34m\u001b[0m\u001b[0m\n\u001b[1;32m      5\u001b[0m \u001b[0;31m#     print(out)\u001b[0m\u001b[0;34m\u001b[0m\u001b[0;34m\u001b[0m\u001b[0m\n",
      "\u001b[0;32m/Users/zhitingchen/anaconda/lib/python3.6/site-packages/torch/nn/modules/module.py\u001b[0m in \u001b[0;36m__call__\u001b[0;34m(self, *input, **kwargs)\u001b[0m\n\u001b[1;32m    222\u001b[0m         \u001b[0;32mfor\u001b[0m \u001b[0mhook\u001b[0m \u001b[0;32min\u001b[0m \u001b[0mself\u001b[0m\u001b[0;34m.\u001b[0m\u001b[0m_forward_pre_hooks\u001b[0m\u001b[0;34m.\u001b[0m\u001b[0mvalues\u001b[0m\u001b[0;34m(\u001b[0m\u001b[0;34m)\u001b[0m\u001b[0;34m:\u001b[0m\u001b[0;34m\u001b[0m\u001b[0m\n\u001b[1;32m    223\u001b[0m             \u001b[0mhook\u001b[0m\u001b[0;34m(\u001b[0m\u001b[0mself\u001b[0m\u001b[0;34m,\u001b[0m \u001b[0minput\u001b[0m\u001b[0;34m)\u001b[0m\u001b[0;34m\u001b[0m\u001b[0m\n\u001b[0;32m--> 224\u001b[0;31m         \u001b[0mresult\u001b[0m \u001b[0;34m=\u001b[0m \u001b[0mself\u001b[0m\u001b[0;34m.\u001b[0m\u001b[0mforward\u001b[0m\u001b[0;34m(\u001b[0m\u001b[0;34m*\u001b[0m\u001b[0minput\u001b[0m\u001b[0;34m,\u001b[0m \u001b[0;34m**\u001b[0m\u001b[0mkwargs\u001b[0m\u001b[0;34m)\u001b[0m\u001b[0;34m\u001b[0m\u001b[0m\n\u001b[0m\u001b[1;32m    225\u001b[0m         \u001b[0;32mfor\u001b[0m \u001b[0mhook\u001b[0m \u001b[0;32min\u001b[0m \u001b[0mself\u001b[0m\u001b[0;34m.\u001b[0m\u001b[0m_forward_hooks\u001b[0m\u001b[0;34m.\u001b[0m\u001b[0mvalues\u001b[0m\u001b[0;34m(\u001b[0m\u001b[0;34m)\u001b[0m\u001b[0;34m:\u001b[0m\u001b[0;34m\u001b[0m\u001b[0m\n\u001b[1;32m    226\u001b[0m             \u001b[0mhook_result\u001b[0m \u001b[0;34m=\u001b[0m \u001b[0mhook\u001b[0m\u001b[0;34m(\u001b[0m\u001b[0mself\u001b[0m\u001b[0;34m,\u001b[0m \u001b[0minput\u001b[0m\u001b[0;34m,\u001b[0m \u001b[0mresult\u001b[0m\u001b[0;34m)\u001b[0m\u001b[0;34m\u001b[0m\u001b[0m\n",
      "\u001b[0;32m/Users/zhitingchen/Documents/compare_architectures/densenet.py\u001b[0m in \u001b[0;36mforward\u001b[0;34m(self, x)\u001b[0m\n\u001b[1;32m    107\u001b[0m                 \u001b[0mm\u001b[0m\u001b[0;34m.\u001b[0m\u001b[0mbias\u001b[0m\u001b[0;34m.\u001b[0m\u001b[0mdata\u001b[0m\u001b[0;34m.\u001b[0m\u001b[0mzero_\u001b[0m\u001b[0;34m(\u001b[0m\u001b[0;34m)\u001b[0m\u001b[0;34m\u001b[0m\u001b[0m\n\u001b[1;32m    108\u001b[0m     \u001b[0;32mdef\u001b[0m \u001b[0mforward\u001b[0m\u001b[0;34m(\u001b[0m\u001b[0mself\u001b[0m\u001b[0;34m,\u001b[0m \u001b[0mx\u001b[0m\u001b[0;34m)\u001b[0m\u001b[0;34m:\u001b[0m\u001b[0;34m\u001b[0m\u001b[0m\n\u001b[0;32m--> 109\u001b[0;31m         \u001b[0mout\u001b[0m \u001b[0;34m=\u001b[0m \u001b[0mself\u001b[0m\u001b[0;34m.\u001b[0m\u001b[0mconv1\u001b[0m\u001b[0;34m(\u001b[0m\u001b[0mx\u001b[0m\u001b[0;34m)\u001b[0m\u001b[0;34m\u001b[0m\u001b[0m\n\u001b[0m\u001b[1;32m    110\u001b[0m         \u001b[0;31m# print(out.size())\u001b[0m\u001b[0;34m\u001b[0m\u001b[0;34m\u001b[0m\u001b[0m\n\u001b[1;32m    111\u001b[0m         \u001b[0mout\u001b[0m \u001b[0;34m=\u001b[0m \u001b[0mself\u001b[0m\u001b[0;34m.\u001b[0m\u001b[0mblock1\u001b[0m\u001b[0;34m(\u001b[0m\u001b[0mout\u001b[0m\u001b[0;34m)\u001b[0m\u001b[0;34m\u001b[0m\u001b[0m\n",
      "\u001b[0;32m/Users/zhitingchen/anaconda/lib/python3.6/site-packages/torch/nn/modules/module.py\u001b[0m in \u001b[0;36m__call__\u001b[0;34m(self, *input, **kwargs)\u001b[0m\n\u001b[1;32m    222\u001b[0m         \u001b[0;32mfor\u001b[0m \u001b[0mhook\u001b[0m \u001b[0;32min\u001b[0m \u001b[0mself\u001b[0m\u001b[0;34m.\u001b[0m\u001b[0m_forward_pre_hooks\u001b[0m\u001b[0;34m.\u001b[0m\u001b[0mvalues\u001b[0m\u001b[0;34m(\u001b[0m\u001b[0;34m)\u001b[0m\u001b[0;34m:\u001b[0m\u001b[0;34m\u001b[0m\u001b[0m\n\u001b[1;32m    223\u001b[0m             \u001b[0mhook\u001b[0m\u001b[0;34m(\u001b[0m\u001b[0mself\u001b[0m\u001b[0;34m,\u001b[0m \u001b[0minput\u001b[0m\u001b[0;34m)\u001b[0m\u001b[0;34m\u001b[0m\u001b[0m\n\u001b[0;32m--> 224\u001b[0;31m         \u001b[0mresult\u001b[0m \u001b[0;34m=\u001b[0m \u001b[0mself\u001b[0m\u001b[0;34m.\u001b[0m\u001b[0mforward\u001b[0m\u001b[0;34m(\u001b[0m\u001b[0;34m*\u001b[0m\u001b[0minput\u001b[0m\u001b[0;34m,\u001b[0m \u001b[0;34m**\u001b[0m\u001b[0mkwargs\u001b[0m\u001b[0;34m)\u001b[0m\u001b[0;34m\u001b[0m\u001b[0m\n\u001b[0m\u001b[1;32m    225\u001b[0m         \u001b[0;32mfor\u001b[0m \u001b[0mhook\u001b[0m \u001b[0;32min\u001b[0m \u001b[0mself\u001b[0m\u001b[0;34m.\u001b[0m\u001b[0m_forward_hooks\u001b[0m\u001b[0;34m.\u001b[0m\u001b[0mvalues\u001b[0m\u001b[0;34m(\u001b[0m\u001b[0;34m)\u001b[0m\u001b[0;34m:\u001b[0m\u001b[0;34m\u001b[0m\u001b[0m\n\u001b[1;32m    226\u001b[0m             \u001b[0mhook_result\u001b[0m \u001b[0;34m=\u001b[0m \u001b[0mhook\u001b[0m\u001b[0;34m(\u001b[0m\u001b[0mself\u001b[0m\u001b[0;34m,\u001b[0m \u001b[0minput\u001b[0m\u001b[0;34m,\u001b[0m \u001b[0mresult\u001b[0m\u001b[0;34m)\u001b[0m\u001b[0;34m\u001b[0m\u001b[0m\n",
      "\u001b[0;32m/Users/zhitingchen/anaconda/lib/python3.6/site-packages/torch/nn/modules/conv.py\u001b[0m in \u001b[0;36mforward\u001b[0;34m(self, input)\u001b[0m\n\u001b[1;32m    252\u001b[0m     \u001b[0;32mdef\u001b[0m \u001b[0mforward\u001b[0m\u001b[0;34m(\u001b[0m\u001b[0mself\u001b[0m\u001b[0;34m,\u001b[0m \u001b[0minput\u001b[0m\u001b[0;34m)\u001b[0m\u001b[0;34m:\u001b[0m\u001b[0;34m\u001b[0m\u001b[0m\n\u001b[1;32m    253\u001b[0m         return F.conv2d(input, self.weight, self.bias, self.stride,\n\u001b[0;32m--> 254\u001b[0;31m                         self.padding, self.dilation, self.groups)\n\u001b[0m\u001b[1;32m    255\u001b[0m \u001b[0;34m\u001b[0m\u001b[0m\n\u001b[1;32m    256\u001b[0m \u001b[0;34m\u001b[0m\u001b[0m\n",
      "\u001b[0;32m/Users/zhitingchen/anaconda/lib/python3.6/site-packages/torch/nn/functional.py\u001b[0m in \u001b[0;36mconv2d\u001b[0;34m(input, weight, bias, stride, padding, dilation, groups)\u001b[0m\n\u001b[1;32m     46\u001b[0m     \"\"\"\n\u001b[1;32m     47\u001b[0m     \u001b[0;32mif\u001b[0m \u001b[0minput\u001b[0m \u001b[0;32mis\u001b[0m \u001b[0;32mnot\u001b[0m \u001b[0;32mNone\u001b[0m \u001b[0;32mand\u001b[0m \u001b[0minput\u001b[0m\u001b[0;34m.\u001b[0m\u001b[0mdim\u001b[0m\u001b[0;34m(\u001b[0m\u001b[0;34m)\u001b[0m \u001b[0;34m!=\u001b[0m \u001b[0;36m4\u001b[0m\u001b[0;34m:\u001b[0m\u001b[0;34m\u001b[0m\u001b[0m\n\u001b[0;32m---> 48\u001b[0;31m         \u001b[0;32mraise\u001b[0m \u001b[0mValueError\u001b[0m\u001b[0;34m(\u001b[0m\u001b[0;34m\"Expected 4D tensor as input, got {}D tensor instead.\"\u001b[0m\u001b[0;34m.\u001b[0m\u001b[0mformat\u001b[0m\u001b[0;34m(\u001b[0m\u001b[0minput\u001b[0m\u001b[0;34m.\u001b[0m\u001b[0mdim\u001b[0m\u001b[0;34m(\u001b[0m\u001b[0;34m)\u001b[0m\u001b[0;34m)\u001b[0m\u001b[0;34m)\u001b[0m\u001b[0;34m\u001b[0m\u001b[0m\n\u001b[0m\u001b[1;32m     49\u001b[0m \u001b[0;34m\u001b[0m\u001b[0m\n\u001b[1;32m     50\u001b[0m     f = ConvNd(_pair(stride), _pair(padding), _pair(dilation), False,\n",
      "\u001b[0;31mValueError\u001b[0m: Expected 4D tensor as input, got 2D tensor instead."
     ]
    }
   ],
   "source": [
    "# plt.ion() \n",
    "for t in range(100):\n",
    "    out = dn_model(x)                 # input x and predict based on x\n",
    "    loss = loss_func(out, y)     # must be (1. nn output, 2. target), the target label is NOT one-hotted\n",
    "#     print(out)\n",
    "    optimizer.zero_grad()   # clear gradients for next train\n",
    "    loss.backward()         # backpropagation, compute gradients\n",
    "    optimizer.step()        # apply gradients\n",
    "#     print(loss.data)\n",
    "#     if t % 10 == 0 or t in [3, 6]:\n",
    "#         # plot and show learning process\n",
    "#         plt.cla()\n",
    "#         _, prediction = torch.max(F.softmax(out), 1)\n",
    "#         pred_y = prediction.data.numpy().squeeze()\n",
    "#         target_y = y.data.numpy()\n",
    "#         print(loss.data)\n",
    "#         plt.scatter(x.view(-1,2).data.numpy()[:, 0], x.view(-1,2).data.numpy()[:, 1], c=pred_y, s=100, lw=0, cmap='RdYlGn')\n",
    "#         accuracy = sum(pred_y == target_y)/x.size()[0]\n",
    "#         plt.text(1.5, -1, 'Accuracy=%.2f' % accuracy, fontdict={'size': 20, 'color':  'red'})\n",
    "#         plt.show()\n",
    "#         plt.pause(0.1)\n",
    "\n",
    "# plt.ioff()\n",
    "loss.data[0]"
   ]
  },
  {
   "cell_type": "code",
   "execution_count": 530,
   "metadata": {
    "scrolled": true
   },
   "outputs": [],
   "source": [
    "class fc_model(torch.nn.Module):\n",
    "    def __init__(self,num_classes,nb_layers,in_planes,n_hidden,dropRate):\n",
    "        super(fc_model,self).__init__()\n",
    "        self.dropRate = dropRate\n",
    "        self.num_classes = num_classes\n",
    "        self.n_hidden = n_hidden\n",
    "        self.layer = self._make_layer(nb_layers, in_planes,n_hidden, dropRate,num_classes)\n",
    "        self.out = nn.Linear(n_hidden,num_classes)\n",
    "    def _make_layer(self,nb_layers,in_planes,n_hidden,dropRate,num_classes):\n",
    "        layers = []\n",
    "        for i in range(nb_layers):\n",
    "            if i == 0:\n",
    "                layers.append(nn.Linear(in_planes, n_hidden))\n",
    "                layers.append(nn.ReLU(inplace=True))\n",
    "#                 layers.append(nn.Linear(n_hidden, n_hidden))\n",
    "#                 layers.append(nn.ReLU(inplace=True))\n",
    "            else:\n",
    "                layers.append(nn.Linear(n_hidden, n_hidden))\n",
    "                layers.append(nn.ReLU(inplace=True))\n",
    "#         layers.append(nn.Dropout(p=self.dropRate))\n",
    "#         layers.append(nn.ReLU(inplace=True))\n",
    "        return nn.Sequential(*layers)\n",
    "    \n",
    "    def forward(self, x):\n",
    "        x = self.layer(x)\n",
    "#         x = F.relu(x)\n",
    "        return self.out(x)"
   ]
  },
  {
   "cell_type": "code",
   "execution_count": 576,
   "metadata": {},
   "outputs": [
    {
     "name": "stdout",
     "output_type": "stream",
     "text": [
      "fc_model (\n",
      "  (layer): Sequential (\n",
      "    (0): Linear (2 -> 15)\n",
      "    (1): ReLU (inplace)\n",
      "    (2): Linear (15 -> 15)\n",
      "    (3): ReLU (inplace)\n",
      "    (4): Linear (15 -> 15)\n",
      "    (5): ReLU (inplace)\n",
      "    (6): Linear (15 -> 15)\n",
      "    (7): ReLU (inplace)\n",
      "  )\n",
      "  (out): Linear (15 -> 2)\n",
      ")\n",
      "Number of model parameters: 797\n"
     ]
    }
   ],
   "source": [
    "\n",
    "model_2 = fc_model(2,4,2,15,0)\n",
    "print(model_2)\n",
    "print('Number of model parameters: {}'.format(\n",
    "            sum([p.data.nelement() for p in model_2.parameters()])))"
   ]
  },
  {
   "cell_type": "code",
   "execution_count": 577,
   "metadata": {
    "scrolled": true
   },
   "outputs": [
    {
     "name": "stdout",
     "output_type": "stream",
     "text": [
      "FeedForward connection training loss 0.06752514094114304\n"
     ]
    }
   ],
   "source": [
    "optimizer = torch.optim.SGD(model_2.parameters(), lr=0.02)\n",
    "loss_func = torch.nn.CrossEntropyLoss()  # the target label is NOT an one-hotted\n",
    "# plt.ion() \n",
    "for t in range(1500):\n",
    "    out = model_2(x)                 # input x and predict based on x\n",
    "    loss = loss_func(out, y)     # must be (1. nn output, 2. target), the target label is NOT one-hotted\n",
    "#     print(out)\n",
    "    optimizer.zero_grad()   # clear gradients for next train\n",
    "    loss.backward()         # backpropagation, compute gradients\n",
    "    optimizer.step()        # apply gradients\n",
    "    \n",
    "# #     print(loss.data)\n",
    "#     if t % 10 == 0 or t in [3, 6]:\n",
    "#         print(loss.data[0])\n",
    "#         # plot and show learning process\n",
    "#         plt.cla()\n",
    "#         _, prediction = torch.max(F.softmax(out), 1)\n",
    "#         pred_y = prediction.data.numpy().squeeze()\n",
    "#         target_y = y.data.numpy()\n",
    "#         plt.scatter(x.view(-1,2).data.numpy()[:, 0], x.view(-1,2).data.numpy()[:, 1], c=pred_y, s=100, lw=0, cmap='RdYlGn')\n",
    "#         accuracy = sum(pred_y == target_y)/x.size()[0]\n",
    "#         print(loss.data.numpy())\n",
    "#         plt.text(1.5, -1, 'Accuracy=%.2f' % accuracy, fontdict={'size': 20, 'color':  'red'})\n",
    "# #         plt.text(1.5, -1, 'Loss=%.2f' % loss.x, fontdict={'size': 20, 'color':  'red'})\n",
    "#         plt.show()\n",
    "#         plt.pause(0.1)\n",
    "\n",
    "# plt.ioff()\n",
    "\n",
    "print(\"FeedForward connection training loss\",loss.data[0])"
   ]
  },
  {
   "cell_type": "code",
   "execution_count": 587,
   "metadata": {},
   "outputs": [],
   "source": [
    "class DenseLayer(nn.Module):\n",
    "    def __init__(self,in_planes,n_hidden,dropRate):\n",
    "        super(DenseLayer,self).__init__()\n",
    "        self.Denselayer = nn.Linear(in_planes,n_hidden)\n",
    "    \n",
    "    def forward(self,x):\n",
    "        out = self.Denselayer(x)\n",
    "        out = F.relu(out)\n",
    "        return torch.cat([x, out], 1)\n",
    "\n",
    "class dense_model(torch.nn.Module):\n",
    "    def __init__(self,num_classes,nb_layers,in_planes,dropRate,growth_rate):\n",
    "        super(dense_model,self).__init__()\n",
    "        self.dropRate = dropRate\n",
    "        self.num_classes = num_classes\n",
    "        self.in_planes = in_planes\n",
    "        \n",
    "        self.layer = self._make_layer(nb_layers,in_planes,dropRate,num_classes,growth_rate)\n",
    "        self.out = nn.Linear(in_planes+nb_layers*growth_rate,num_classes)\n",
    "    \n",
    "    def _make_layer(self,nb_layers,in_planes,dropRate,num_classes,growth_rate):\n",
    "        layers = []\n",
    "        for i in range(nb_layers):\n",
    "            layers.append(DenseLayer(in_planes+i*growth_rate, growth_rate,dropRate))\n",
    "#             layers.append(nn.ReLU(inplace=True))\n",
    "\n",
    "        return nn.Sequential(*layers)\n",
    "    \n",
    "    def forward(self, x):\n",
    "        x = self.layer(x)\n",
    "        F.relu(x)\n",
    "        return self.out(x)"
   ]
  },
  {
   "cell_type": "code",
   "execution_count": 588,
   "metadata": {},
   "outputs": [],
   "source": [
    "dense_model = dense_model(num_classes=2,nb_layers=4,in_planes= 2,dropRate = 0,growth_rate=10)"
   ]
  },
  {
   "cell_type": "code",
   "execution_count": 589,
   "metadata": {},
   "outputs": [
    {
     "data": {
      "text/plain": [
       "dense_model (\n",
       "  (layer): Sequential (\n",
       "    (0): DenseLayer (\n",
       "      (Denselayer): Linear (2 -> 10)\n",
       "    )\n",
       "    (1): DenseLayer (\n",
       "      (Denselayer): Linear (12 -> 10)\n",
       "    )\n",
       "    (2): DenseLayer (\n",
       "      (Denselayer): Linear (22 -> 10)\n",
       "    )\n",
       "    (3): DenseLayer (\n",
       "      (Denselayer): Linear (32 -> 10)\n",
       "    )\n",
       "  )\n",
       "  (out): Linear (42 -> 2)\n",
       ")"
      ]
     },
     "execution_count": 589,
     "metadata": {},
     "output_type": "execute_result"
    }
   ],
   "source": [
    "dense_model"
   ]
  },
  {
   "cell_type": "code",
   "execution_count": 590,
   "metadata": {},
   "outputs": [
    {
     "name": "stdout",
     "output_type": "stream",
     "text": [
      "Dense Connection training loss 0.07693500816822052\n"
     ]
    }
   ],
   "source": [
    "optimizer = torch.optim.SGD(dense_model.parameters(), lr=0.02)\n",
    "loss_func = torch.nn.CrossEntropyLoss()  # the target label is NOT an one-hotted\n",
    "# plt.ion() \n",
    "for t in range(2000):\n",
    "    out = dense_model(x)                 # input x and predict based on x\n",
    "    loss = loss_func(out, y)     # must be (1. nn output, 2. target), the target label is NOT one-hotted\n",
    "#     print(out)\n",
    "    optimizer.zero_grad()   # clear gradients for next train\n",
    "    loss.backward()         # backpropagation, compute gradients\n",
    "    optimizer.step()        # apply gradients\n",
    "#     print(loss.data)\n",
    "#     if t % 10 == 0 or t in [3, 6]:\n",
    "#         # plot and show learning process\n",
    "#         plt.cla()\n",
    "#         _, prediction = torch.max(F.softmax(out), 1)\n",
    "#         pred_y = prediction.data.numpy().squeeze()\n",
    "#         target_y = y.data.numpy()\n",
    "#         plt.scatter(x.view(-1,2).data.numpy()[:, 0], x.view(-1,2).data.numpy()[:, 1], c=pred_y, s=100, lw=0, cmap='RdYlGn')\n",
    "#         accuracy = sum(pred_y == target_y)/x.size()[0]\n",
    "#         print(loss.data.numpy())\n",
    "#         plt.text(1.5, -1, 'Accuracy=%.2f' % accuracy, fontdict={'size': 20, 'color':  'red'})\n",
    "# #         plt.text(1.5, -1, 'Loss=%.2f' % loss.x, fontdict={'size': 20, 'color':  'red'})\n",
    "#         plt.show()\n",
    "#         plt.pause(0.1)\n",
    "\n",
    "# # plt.ioff()\n",
    "\n",
    "print(\"Dense Connection training loss\",loss.data[0])"
   ]
  },
  {
   "cell_type": "code",
   "execution_count": 591,
   "metadata": {},
   "outputs": [
    {
     "data": {
      "image/png": "[encoded data removed]",
      "text/plain": [
       "<matplotlib.figure.Figure at 0x11e83b2e8>"
      ]
     },
     "metadata": {},
     "output_type": "display_data"
    }
   ],
   "source": [
    "import matplotlib.pyplot as plt\n",
    "from matplotlib.colors import ListedColormap\n",
    "\n",
    "h = 0.02\n",
    "x_min, x_max = xTr[:, 0].min() - .5, xTr[:, 0].max() + .5\n",
    "y_min, y_max = xTr[:, 1].min() - .5, xTr[:, 1].max() + .5\n",
    "xx, yy = np.meshgrid(np.arange(x_min, x_max, h),\n",
    "                     np.arange(y_min, y_max, h))\n",
    "\n",
    "# just plot the dataset first\n",
    "cm = plt.cm.RdBu\n",
    "cm_bright = ListedColormap(['#FF0000', '#0000FF'])\n",
    "ax = plt.subplot(1, 1, 1)\n",
    "\n",
    "\n",
    "# Plot the training points\n",
    "ax.scatter(xTr[:, 0], xTr[:, 1], c=yTr, cmap=cm_bright,\n",
    "           edgecolors='k')\n",
    "# and testing points\n",
    "ax.scatter(xTe[:, 0], xTe[:, 1], c=yTe, cmap=cm_bright, alpha=0.6,\n",
    "           edgecolors='k')\n",
    "ax.set_xlim(xx.min(), xx.max())\n",
    "ax.set_ylim(yy.min(), yy.max())\n",
    "ax.set_xticks(())\n",
    "ax.set_yticks(())\n",
    "\n",
    "\n",
    "\n",
    "grid = np.c_[xx.ravel(), yy.ravel()]\n",
    "# torch can only train on Variable, so convert them to Variable\n",
    "grid = torch.from_numpy(grid).float()\n",
    "# x = x.contiguous()\n",
    "size = grid.shape[0]\n",
    "grid = Variable(grid)"
   ]
  },
  {
   "cell_type": "code",
   "execution_count": 592,
   "metadata": {},
   "outputs": [
    {
     "name": "stdout",
     "output_type": "stream",
     "text": [
      "DenseNet Conv\n",
      "(26004,)\n",
      "1\n",
      "Linear\n",
      "(26004,)\n",
      "2\n",
      "Dense Model\n",
      "(26004,)\n",
      "3\n"
     ]
    },
    {
     "data": {
      "image/png": "[encoded data removed]",
      "text/plain": [
       "<matplotlib.figure.Figure at 0x110d47d68>"
      ]
     },
     "metadata": {},
     "output_type": "display_data"
    }
   ],
   "source": [
    "names = [\"DenseNet Conv\",\"Linear\",\"Dense Model\"]\n",
    "models = [dn_model,model_2,dense_model]\n",
    "i = 1\n",
    "\n",
    "figure = plt.figure(figsize=(20, 5))\n",
    "for name,model in zip(names,models):\n",
    "\n",
    "    if name == \"Linear\" or name == \"Dense Model\":\n",
    "        grid = grid.view(size,2)\n",
    "    else:\n",
    "        grid = grid.view(size,1,1,2)\n",
    "         \n",
    "    print(name)\n",
    "    \n",
    "    ax = plt.subplot(1, len(models) + 1, i)\n",
    "#     print(model)\n",
    "    Z = F.softmax(model(grid))\n",
    "#     print(Z)\n",
    "#     Z = Z[:,1].data.numpy()\n",
    "    Z = Z.data.numpy().reshape(-1,2)[:,1]\n",
    "    print(Z.shape)\n",
    "    # Put the result into a color plot\n",
    "    Z = Z.reshape(xx.shape)\n",
    "    ax.contourf(xx, yy, Z, cmap=cm, alpha=.8)\n",
    "\n",
    "    # Plot also the training points\n",
    "    ax.scatter(xTr[:, 0], xTr[:, 1], c=yTr, cmap=cm_bright,\n",
    "               edgecolors='k',label=\"Training\")\n",
    "    # and testing points\n",
    "    ax.scatter(xTe[:, 0], xTe[:, 1], c=yTe, cmap=cm_bright,\n",
    "               edgecolors='k', alpha=0.3,label=\"Test\")\n",
    "\n",
    "    ax.set_xlim(xx.min(), xx.max())\n",
    "    ax.set_ylim(yy.min(), yy.max())\n",
    "    ax.set_xticks(())\n",
    "    ax.set_yticks(())\n",
    "    plt.title(name+\" Decision Boundary\")\n",
    "    plt.tight_layout()\n",
    "    plt.legend()\n",
    "    print(i)\n",
    "    i+=1\n",
    "plt.show()"
   ]
  },
  {
   "cell_type": "code",
   "execution_count": null,
   "metadata": {
    "collapsed": true
   },
   "outputs": [],
   "source": []
  },
  {
   "cell_type": "code",
   "execution_count": null,
   "metadata": {
    "collapsed": true
   },
   "outputs": [],
   "source": []
  }
 ],
 "metadata": {
  "kernelspec": {
   "display_name": "Python 3",
   "language": "python",
   "name": "python3"
  },
  "language_info": {
   "codemirror_mode": {
    "name": "ipython",
    "version": 3
   },
   "file_extension": ".py",
   "mimetype": "text/x-python",
   "name": "python",
   "nbconvert_exporter": "python",
   "pygments_lexer": "ipython3",
   "version": "3.6.1"
  }
 },
 "nbformat": 4,
 "nbformat_minor": 2
}
